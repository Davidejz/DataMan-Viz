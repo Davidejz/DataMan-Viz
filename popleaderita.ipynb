{
 "cells": [
  {
   "cell_type": "code",
   "execution_count": 71,
   "metadata": {
    "collapsed": true
   },
   "outputs": [],
   "source": [
    "import pandas as pd"
   ]
  },
  {
   "cell_type": "code",
   "execution_count": 73,
   "metadata": {
    "collapsed": false
   },
   "outputs": [],
   "source": [
    "data = pd.read_csv(\"C:\\\\Users\\\\Utente\\\\Desktop\\\\Progetto Europee\\\\leaders_sent_IT_10000.csv\", delimiter=\",\", encoding=\"unicode-escape\")"
   ]
  },
  {
   "cell_type": "code",
   "execution_count": 76,
   "metadata": {
    "collapsed": false
   },
   "outputs": [],
   "source": [
    "data['text']= data['text'].str.lower()"
   ]
  },
  {
   "cell_type": "code",
   "execution_count": 77,
   "metadata": {
    "collapsed": false
   },
   "outputs": [],
   "source": [
    "salvini= data[data['text'].str.contains('salvini', na='False')==True]"
   ]
  },
  {
   "cell_type": "code",
   "execution_count": 78,
   "metadata": {
    "collapsed": true
   },
   "outputs": [],
   "source": [
    "bonino= data[data['text'].str.contains('bonino', na='False')==True]"
   ]
  },
  {
   "cell_type": "code",
   "execution_count": 79,
   "metadata": {
    "collapsed": true
   },
   "outputs": [],
   "source": [
    "zingaretti= data[data['text'].str.contains('zingaretti', na='False')==True]"
   ]
  },
  {
   "cell_type": "code",
   "execution_count": 80,
   "metadata": {
    "collapsed": true
   },
   "outputs": [],
   "source": [
    "berlusconi= data[data['text'].str.contains('berlusconi', na='False')==True]"
   ]
  },
  {
   "cell_type": "code",
   "execution_count": 81,
   "metadata": {
    "collapsed": true
   },
   "outputs": [],
   "source": [
    "meloni= data[data['text'].str.contains('meloni', na='False')==True]"
   ]
  },
  {
   "cell_type": "code",
   "execution_count": 82,
   "metadata": {
    "collapsed": true
   },
   "outputs": [],
   "source": [
    "dimaio= data[data['text'].str.contains('di maio', na='False')==True]"
   ]
  },
  {
   "cell_type": "code",
   "execution_count": 83,
   "metadata": {
    "collapsed": false
   },
   "outputs": [],
   "source": [
    "salviniPos= (salvini[salvini['sentiment']==1].size/salvini.size)*100\n",
    "salviniNeu= (salvini[salvini['sentiment']==0].size/salvini.size)*100\n",
    "salviniNeg= (salvini[salvini['sentiment']==-1].size/salvini.size)*100\n",
    "\n",
    "with open(\"C:\\\\Users\\\\Utente\\\\Desktop\\\\Progetto Europee\\\\popLeaderIta_it.csv\", \"a\") as f:\n",
    "    f.write('{};{};{};{}\\n'.format(\"Salvini\", salviniPos, salviniNeu, salviniNeg))"
   ]
  },
  {
   "cell_type": "code",
   "execution_count": 84,
   "metadata": {
    "collapsed": true
   },
   "outputs": [],
   "source": [
    "zingarettiPos= (zingaretti[zingaretti['sentiment']==1].size/zingaretti.size)*100\n",
    "zingarettiNeu= (zingaretti[zingaretti['sentiment']==0].size/zingaretti.size)*100\n",
    "zingarettiNeg= (zingaretti[zingaretti['sentiment']==-1].size/zingaretti.size)*100\n",
    "\n",
    "with open(\"C:\\\\Users\\\\Utente\\\\Desktop\\\\Progetto Europee\\\\popLeaderIta_it.csv\", \"a\") as f:\n",
    "    f.write('{};{};{};{}\\n'.format(\"Zingaretti\", zingarettiPos, zingarettiNeu, zingarettiNeg))"
   ]
  },
  {
   "cell_type": "code",
   "execution_count": 85,
   "metadata": {
    "collapsed": true
   },
   "outputs": [],
   "source": [
    "berlusconiPos= (berlusconi[berlusconi['sentiment']==1].size/berlusconi.size)*100\n",
    "berlusconiNeu= (berlusconi[berlusconi['sentiment']==0].size/berlusconi.size)*100\n",
    "berlusconiNeg= (berlusconi[berlusconi['sentiment']==-1].size/berlusconi.size)*100\n",
    "\n",
    "with open(\"C:\\\\Users\\\\Utente\\\\Desktop\\\\Progetto Europee\\\\popLeaderIta_it.csv\", \"a\") as f:\n",
    "    f.write('{};{};{};{}\\n'.format(\"Berlusconi\", berlusconiPos, berlusconiNeu, berlusconiNeg))"
   ]
  },
  {
   "cell_type": "code",
   "execution_count": 86,
   "metadata": {
    "collapsed": true
   },
   "outputs": [],
   "source": [
    "boninoPos= (bonino[bonino['sentiment']==1].size/bonino.size)*100\n",
    "boninoNeu= (bonino[bonino['sentiment']==0].size/bonino.size)*100\n",
    "boninoNeg= (bonino[bonino['sentiment']==-1].size/bonino.size)*100\n",
    "\n",
    "with open(\"C:\\\\Users\\\\Utente\\\\Desktop\\\\Progetto Europee\\\\popLeaderIta_it.csv\", \"a\") as f:\n",
    "    f.write('{};{};{};{}\\n'.format(\"Bonino\", boninoPos, boninoNeu, boninoNeg))"
   ]
  },
  {
   "cell_type": "code",
   "execution_count": 87,
   "metadata": {
    "collapsed": true
   },
   "outputs": [],
   "source": [
    "dimaioPos= (dimaio[dimaio['sentiment']==1].size/dimaio.size)*100\n",
    "dimaioNeu= (dimaio[dimaio['sentiment']==0].size/dimaio.size)*100\n",
    "dimaioNeg= (dimaio[dimaio['sentiment']==-1].size/dimaio.size)*100\n",
    "\n",
    "with open(\"C:\\\\Users\\\\Utente\\\\Desktop\\\\Progetto Europee\\\\popLeaderIta_it.csv\", \"a\") as f:\n",
    "    f.write('{};{};{};{}\\n'.format(\"Di Maio\", dimaioPos, dimaioNeu, dimaioNeg))"
   ]
  },
  {
   "cell_type": "code",
   "execution_count": 88,
   "metadata": {
    "collapsed": false
   },
   "outputs": [],
   "source": [
    "meloniPos= (meloni[meloni['sentiment']==1].size/meloni.size)*100\n",
    "meloniNeu= (meloni[meloni['sentiment']==0].size/meloni.size)*100\n",
    "meloniNeg= (meloni[meloni['sentiment']==-1].size/meloni.size)*100\n",
    "\n",
    "with open(\"C:\\\\Users\\\\Utente\\\\Desktop\\\\Progetto Europee\\\\popLeaderIta_it.csv\", \"a\") as f:\n",
    "    f.write('{};{};{};{}\\n'.format(\"Meloni\", meloniPos, meloniNeu, meloniNeg))"
   ]
  },
  {
   "cell_type": "code",
   "execution_count": null,
   "metadata": {
    "collapsed": true
   },
   "outputs": [],
   "source": []
  }
 ],
 "metadata": {
  "kernelspec": {
   "display_name": "Python (python3.6)",
   "language": "python",
   "name": "python3.6"
  },
  "language_info": {
   "codemirror_mode": {
    "name": "ipython",
    "version": 3
   },
   "file_extension": ".py",
   "mimetype": "text/x-python",
   "name": "python",
   "nbconvert_exporter": "python",
   "pygments_lexer": "ipython3",
   "version": "3.6.2"
  }
 },
 "nbformat": 4,
 "nbformat_minor": 2
}
